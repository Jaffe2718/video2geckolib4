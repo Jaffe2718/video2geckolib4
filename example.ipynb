{
 "cells": [
  {
   "metadata": {},
   "cell_type": "markdown",
   "source": "## Import library",
   "id": "df6cc4fba81aa752"
  },
  {
   "metadata": {
    "ExecuteTime": {
     "end_time": "2025-02-22T10:47:22.149396Z",
     "start_time": "2025-02-22T10:47:20.912337Z"
    }
   },
   "cell_type": "code",
   "source": "import video2geckolib4",
   "id": "initial_id",
   "outputs": [],
   "execution_count": 1
  },
  {
   "metadata": {},
   "cell_type": "markdown",
   "source": "## Create a base model",
   "id": "e9f992717b4f732e"
  },
  {
   "metadata": {
    "ExecuteTime": {
     "end_time": "2025-02-22T10:47:22.157214Z",
     "start_time": "2025-02-22T10:47:22.151031Z"
    }
   },
   "cell_type": "code",
   "source": "video2geckolib4.gen_basemodel('example/CaiXukun.bbmodel')",
   "id": "f776b4247e4cec88",
   "outputs": [],
   "execution_count": 2
  },
  {
   "metadata": {},
   "cell_type": "markdown",
   "source": "## Calculate GeckoLib4 animations from videos",
   "id": "9818cc657d0ed63d"
  },
  {
   "metadata": {
    "ExecuteTime": {
     "end_time": "2025-02-22T10:47:50.055542Z",
     "start_time": "2025-02-22T10:47:22.158231Z"
    }
   },
   "cell_type": "code",
   "source": [
    "videos = ('example/videos/basketball.mp4', 'example/videos/kunshankao.mp4', 'example/videos/sushan6.mp4', 'example/videos/caixukun.mp4')\n",
    "video2geckolib4.auto_estimate(videos, 'example/animations/kun.animation.json', sample_fps=10, smooth=True, allow_translate=True)"
   ],
   "id": "101fbb0476a2d47a",
   "outputs": [],
   "execution_count": 3
  }
 ],
 "metadata": {
  "kernelspec": {
   "display_name": "Python 3",
   "language": "python",
   "name": "python3"
  },
  "language_info": {
   "codemirror_mode": {
    "name": "ipython",
    "version": 2
   },
   "file_extension": ".py",
   "mimetype": "text/x-python",
   "name": "python",
   "nbconvert_exporter": "python",
   "pygments_lexer": "ipython2",
   "version": "2.7.6"
  }
 },
 "nbformat": 4,
 "nbformat_minor": 5
}
